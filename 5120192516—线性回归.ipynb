{
 "cells": [
  {
   "cell_type": "code",
   "execution_count": 5,
   "id": "db8aae89",
   "metadata": {},
   "outputs": [],
   "source": [
    "import numpy as np\n",
    "\n",
    "\n",
    "def func_result(x, y):\n",
    "    b = np.dot(x.T, x)\n",
    "    b_mat = 1 / b\n",
    "\n",
    "    # b的逆 * x的转置\n",
    "    c = np.dot(b_mat, x.T).reshape(1, 2)\n",
    "\n",
    "    # 求w\n",
    "    w = np.dot(c, y)\n",
    "    w_lst.append(w)"
   ]
  },
  {
   "cell_type": "code",
   "execution_count": 6,
   "id": "98546842",
   "metadata": {},
   "outputs": [
    {
     "name": "stdout",
     "output_type": "stream",
     "text": [
      "所求线性模型为:  f(s)=0.936826210134204s+0.19703429081766236\n"
     ]
    }
   ],
   "source": [
    "x_data = [10.95, 12.14, 13.22, 13.87, 15.06, 16.3, 17.01, 17.93, 19.01, 20.01, \n",
    "          21.04, 22.1, 23.17, 24.07, 25., 25.95, 27.1, 28.01, 29.06, 30.05]\n",
    "\n",
    "y_data = [11.18, 10.43, 12.36, 14.15, 15.73, 16.4, 18.86, 16.13, 18.21, 18.37,\n",
    "          22.61, 19.83, 22.67, 22.7, 25.16, 25.55, 28.21, 28.12, 28.32, 29.18]\n",
    "x = [[] for i in range(20)]\n",
    "w_lst = []\n",
    "\n",
    "for i in range(len(x_data)):\n",
    "    x[i].append(x_data[i])\n",
    "    x[i].append(4)\n",
    "\n",
    "x = np.array(x)\n",
    "y = np.array(y_data).reshape(20, 1)\n",
    "a_result = 0\n",
    "b_result = 0\n",
    "for i in range(20):\n",
    "    a = x[i]\n",
    "    b = y_data[i]\n",
    "    # print(type(a))\n",
    "    # print(type(b))\n",
    "    func_result(a, b)\n",
    "for array in w_lst:\n",
    "    # print(array[0][0])\n",
    "    # print(array[0][1])\n",
    "    a_result = a_result + array[0][0]\n",
    "    b_result = b_result + array[0][1]\n",
    "s = a_result/20\n",
    "t = b_result/20\n",
    "print(f'所求线性模型为:  f(s)={s}s+{t}')"
   ]
  },
  {
   "cell_type": "code",
   "execution_count": null,
   "id": "9939ff7d",
   "metadata": {},
   "outputs": [],
   "source": []
  }
 ],
 "metadata": {
  "kernelspec": {
   "display_name": "Python 3",
   "language": "python",
   "name": "python3"
  },
  "language_info": {
   "codemirror_mode": {
    "name": "ipython",
    "version": 3
   },
   "file_extension": ".py",
   "mimetype": "text/x-python",
   "name": "python",
   "nbconvert_exporter": "python",
   "pygments_lexer": "ipython3",
   "version": "3.8.4"
  }
 },
 "nbformat": 4,
 "nbformat_minor": 5
}
